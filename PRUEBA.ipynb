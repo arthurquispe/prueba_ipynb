{
 "cells": [
  {
   "cell_type": "markdown",
   "id": "16fd3ee8",
   "metadata": {},
   "source": [
    "### PRUEBA PARA UNIR RAMAS EN IPYNB "
   ]
  },
  {
   "cell_type": "code",
   "execution_count": 1,
   "id": "38848799",
   "metadata": {},
   "outputs": [
    {
     "name": "stdout",
     "output_type": "stream",
     "text": [
      "7\n"
     ]
    }
   ],
   "source": [
    "X=5\n",
    "Y=2\n",
    "print(X+Y)"
   ]
  }
 ],
 "metadata": {
  "kernelspec": {
   "display_name": "Python 3 (ipykernel)",
   "language": "python",
   "name": "python3"
  },
  "language_info": {
   "codemirror_mode": {
    "name": "ipython",
    "version": 3
   },
   "file_extension": ".py",
   "mimetype": "text/x-python",
   "name": "python",
   "nbconvert_exporter": "python",
   "pygments_lexer": "ipython3",
   "version": "3.9.13"
  }
 },
 "nbformat": 4,
 "nbformat_minor": 5
}
